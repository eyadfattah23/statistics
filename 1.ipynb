{
 "cells": [
  {
   "cell_type": "code",
   "execution_count": 2,
   "metadata": {},
   "outputs": [
    {
     "name": "stdout",
     "output_type": "stream",
     "text": [
      "0.3\n"
     ]
    }
   ],
   "source": [
    "def f(p):\n",
    "#Insert your code here\n",
    "    return p\n",
    "print(f(0.3))    "
   ]
  },
  {
   "cell_type": "code",
   "execution_count": 3,
   "metadata": {},
   "outputs": [
    {
     "name": "stdout",
     "output_type": "stream",
     "text": [
      "0.7\n"
     ]
    }
   ],
   "source": [
    "#Return the probability of the inverse event (i.e. 1-p)\n",
    "\n",
    "def f(p):\n",
    "#Insert your code here\n",
    "    return 1-p\n",
    "print(f(0.3))    "
   ]
  },
  {
   "cell_type": "code",
   "execution_count": 4,
   "metadata": {},
   "outputs": [
    {
     "name": "stdout",
     "output_type": "stream",
     "text": [
      "0.25\n"
     ]
    }
   ],
   "source": [
    "#Given that the probability of one head is p, return the probability of\n",
    "#two flips resulting in two heads\n",
    "\n",
    "def f(p):\n",
    "#Insert your code here\n",
    "    return p*p\n",
    "print(f(0.5))    "
   ]
  },
  {
   "cell_type": "code",
   "execution_count": null,
   "metadata": {},
   "outputs": [],
   "source": [
    "#Return the probability of exactly one head in three flips\n",
    "\n",
    "def f(p):\n",
    "#Insert your code here\n",
    "    return p*p*p\n",
    "print(f(0.5))    "
   ]
  },
  {
   "cell_type": "code",
   "execution_count": 6,
   "metadata": {},
   "outputs": [
    {
     "name": "stdout",
     "output_type": "stream",
     "text": [
      "0.375\n"
     ]
    }
   ],
   "source": [
    "#Return the probability of exactly one head in three flips\n",
    "\n",
    "def f(p):\n",
    "#Insert your code here\n",
    "    return p*(1-p)*(1-p)*3\n",
    "print(f(0.5))          \n",
    "\n",
    "\n",
    "\"\"\"\n",
    "it can be p^3 but that only works with a normal coin of 0.5 prob. \n",
    "so with weighted coins this is the right formula\n",
    "\"\"\" "
   ]
  },
  {
   "cell_type": "code",
   "execution_count": 7,
   "metadata": {},
   "outputs": [
    {
     "name": "stdout",
     "output_type": "stream",
     "text": [
      "0.4\n"
     ]
    }
   ],
   "source": [
    "#Return the probability of flipping one head each from two coins\n",
    "#One coin has a probability of heads of p1 and the other of p2\n",
    "\n",
    "def f(p1,p2):\n",
    "#Insert your code here\n",
    "    return p1*p2\n",
    "    \n",
    "print(f(0.5,0.8))"
   ]
  },
  {
   "cell_type": "code",
   "execution_count": null,
   "metadata": {},
   "outputs": [],
   "source": [
    "#Two coins have probabilities of heads of p1 andd p2\n",
    "#The probability of selecting the first coin is p0\n",
    "#Return the probability of a flip landing on heads\n",
    "\n",
    "def f(p0,p1,p2):\n",
    "#Insert your code here\n",
    "    return p0*p1+(1-p0)*p2\n",
    "\n",
    "print(f(0.3,0.5,0.9))"
   ]
  },
  {
   "cell_type": "code",
   "execution_count": null,
   "metadata": {},
   "outputs": [],
   "source": [
    "#Calculate the probability of a positive result given that\n",
    "#p0=P(C)\n",
    "#p1=P(Positive|C)\n",
    "#p2=P(Negative|Not C)\n",
    "\n",
    "def f(p0,p1,p2):\n",
    "#Insert your code here\n",
    "    return p0*p1+(1-p0)*(1-p2)\n",
    "    \n",
    "print(f(0.1,0.9,0.8))    \n"
   ]
  },
  {
   "cell_type": "code",
   "execution_count": null,
   "metadata": {},
   "outputs": [],
   "source": [
    "#Return the probability of A conditioned on B given that \n",
    "#P(A)=p0, P(B|A)=p1, and P(Not B|Not A)=p2 \n",
    "\n",
    "def f(p0,p1,p2):\n",
    "#Insert your code here\n",
    "    return (p0*p1)/((1-p0)*(1-p2)+p0*p1)\n",
    "    \n",
    "print(f(0.1,0.9,0.8))"
   ]
  },
  {
   "cell_type": "code",
   "execution_count": null,
   "metadata": {},
   "outputs": [],
   "source": [
    "#Return the probability of A conditioned on Not B given that \n",
    "#P(A)=p0, P(B|A)=p1, and P(Not B|Not A)=p2 \n",
    "\n",
    "def f(p0,p1,p2):\n",
    "#Insert your code here\n",
    "    return (p0*(1-p1))/(p0*(1-p1)+p2*(1-p0))\n",
    "print(f(0.1,0.9,0.8))\n",
    "    "
   ]
  },
  {
   "cell_type": "code",
   "execution_count": 1,
   "metadata": {},
   "outputs": [
    {
     "name": "stdout",
     "output_type": "stream",
     "text": [
      "Correct\n",
      "Correct\n",
      "Correct\n",
      "Correct\n",
      "Correct\n"
     ]
    }
   ],
   "source": [
    "#FlipPredictor\n",
    "#A coin is drawn at random from a bag of coins of varying probabilities\n",
    "#Each coin has the same chance of being drawn\n",
    "#Your class FlipPredictor will be initialized with a list of the probability of \n",
    "#heads for each coin. This list of probabilities can be accessed as self.coins \n",
    "#in the functions you must write. The function update will be called after every \n",
    "#flip to enable you to update your estimate of the probability of each coin being \n",
    "#the selected coin. The function pheads may be called and any time and will \n",
    "#return your best estimate of the next flip landing on heads.\n",
    "\n",
    "\n",
    "from __future__ import division\n",
    "class FlipPredictor(object):\n",
    "    def __init__(self,coins):\n",
    "        self.coins=coins\n",
    "        n=len(coins)\n",
    "        self.probs=[1/n]*n\n",
    "    def pheads(self):\n",
    "        #Write a function that returns \n",
    "        #the probability of the next flip being heads \n",
    "        return sum(pcoin*p for pcoin,p in zip(self.coins,self.probs))    \n",
    "\n",
    "\n",
    "    def update(self,result):\n",
    "        #Write a function the updates\n",
    "        #the probabilities of flipping each coin\n",
    "        pheads=self.pheads()\n",
    "        if result=='H':\n",
    "            self.probs=[pcoin*p/pheads for pcoin,p in zip(self.coins,self.probs)]\n",
    "        else:\n",
    "            self.probs=[(1-pcoin)*p/(1-pheads) for pcoin,p in zip(self.coins,self.probs)]\n",
    "\n",
    "#The code below this line tests your implementation. \n",
    "#You need not change it\n",
    "#You may add additional test cases or otherwise modify if desired\n",
    "def test(coins,flips):        \n",
    "    f=FlipPredictor(coins)\n",
    "    guesses=[]\n",
    "    for flip in flips:\n",
    "        f.update(flip)\n",
    "        guesses.append(f.pheads())\n",
    "    return guesses   \n",
    "        \n",
    "def maxdiff(l1,l2):\n",
    "    return max([abs(x-y) for x,y in zip(l1,l2)])\n",
    "\n",
    "testcases=[\n",
    "(([0.5,0.4,0.3],'HHTH'),[0.4166666666666667, 0.432, 0.42183098591549295, 0.43639398998330553]),\n",
    "(([0.14,0.32,0.42,0.81,0.21],'HHHTTTHHH'),[0.5255789473684211, 0.6512136991788505, 0.7295055220497553, 0.6187139453483192, 0.4823974597714815, 0.3895729901052968, 0.46081730193074644, 0.5444108434105802, 0.6297110187222278]),\n",
    "(([0.14,0.32,0.42,0.81,0.21],'TTTHHHHHH'),[0.2907741935483871, 0.25157009005730924, 0.23136284577678012, 0.2766575695593804, 0.3296000585271367, 0.38957299010529806, 0.4608173019307465, 0.5444108434105804, 0.6297110187222278]),\n",
    "(([0.12,0.45,0.23,0.99,0.35,0.36],'THHTHTTH'),[0.28514285714285714, 0.3378256513026052, 0.380956725493104, 0.3518717367468537, 0.37500429586037076, 0.36528605387582497, 0.3555106542906013, 0.37479179323540324]),\n",
    "(([0.03,0.32,0.59,0.53,0.55,0.42,0.65],'HHTHTTHTHHT'),[0.528705501618123, 0.5522060353798126, 0.5337142767315369, 0.5521920592821695, 0.5348391689038525, 0.5152373451083692, 0.535385450497415, 0.5168208803156963, 0.5357708613431963, 0.5510509656933194, 0.536055356823069])]\n",
    "\n",
    "\n",
    "for inputs,output in testcases:\n",
    "    if maxdiff(test(*inputs),output)<0.001:\n",
    "        print('Correct')\n",
    "    else: print('Incorrect')"
   ]
  },
  {
   "cell_type": "code",
   "execution_count": null,
   "metadata": {},
   "outputs": [],
   "source": []
  }
 ],
 "metadata": {
  "kernelspec": {
   "display_name": "Python 3.10.4 64-bit",
   "language": "python",
   "name": "python3"
  },
  "language_info": {
   "codemirror_mode": {
    "name": "ipython",
    "version": 3
   },
   "file_extension": ".py",
   "mimetype": "text/x-python",
   "name": "python",
   "nbconvert_exporter": "python",
   "pygments_lexer": "ipython3",
   "version": "3.10.4"
  },
  "orig_nbformat": 4,
  "vscode": {
   "interpreter": {
    "hash": "551ae5f633a0703ebed0200388e4816cacfa09364f5d947665a859afca4b84e8"
   }
  }
 },
 "nbformat": 4,
 "nbformat_minor": 2
}
