{
 "cells": [
  {
   "cell_type": "code",
   "execution_count": 1,
   "metadata": {},
   "outputs": [
    {
     "name": "stdout",
     "output_type": "stream",
     "text": [
      "54.4\n"
     ]
    }
   ],
   "source": [
    "#Complete the mean function to make it return the mean of a list of numbers\n",
    "\n",
    "data1=[49., 66, 24, 98, 37, 64, 98, 27, 56, 93, 68, 78, 22, 25, 11]\n",
    "\n",
    "def mean(data):\n",
    "    #Insert your code here\n",
    "    sum =0\n",
    "    for i in data:\n",
    "        sum = sum+i\n",
    "        \n",
    "    return sum/len(data)\n",
    "    \n",
    "print(mean(data1))    \n",
    "        "
   ]
  },
  {
   "cell_type": "code",
   "execution_count": 2,
   "metadata": {},
   "outputs": [
    {
     "name": "stdout",
     "output_type": "stream",
     "text": [
      "54.4\n"
     ]
    }
   ],
   "source": [
    "#Complete the mean function to make it return the mean of a list of numbers\n",
    "\n",
    "data1=[49., 66, 24, 98, 37, 64, 98, 27, 56, 93, 68, 78, 22, 25, 11]\n",
    "\n",
    "def mean(data):\n",
    "    #Insert your code here\n",
    "        \n",
    "    return sum(data)/len(data)\n",
    "    \n",
    "print(mean(data1))    \n",
    "        \n"
   ]
  },
  {
   "cell_type": "code",
   "execution_count": 4,
   "metadata": {},
   "outputs": [
    {
     "data": {
      "text/plain": [
       "2"
      ]
     },
     "execution_count": 4,
     "metadata": {},
     "output_type": "execute_result"
    }
   ],
   "source": [
    "#Complete the median function to make it return the median of a list of numbers\n",
    "import statistics\n",
    "data1=[1,2,5,10,-20]\n",
    "def median(data):\n",
    "    #Insert your code here\n",
    "    return statistics.median(data)    \n",
    "\n",
    "median(data1)\n"
   ]
  },
  {
   "cell_type": "code",
   "execution_count": 6,
   "metadata": {},
   "outputs": [
    {
     "name": "stdout",
     "output_type": "stream",
     "text": [
      "2.0\n"
     ]
    },
    {
     "data": {
      "text/plain": [
       "5"
      ]
     },
     "execution_count": 6,
     "metadata": {},
     "output_type": "execute_result"
    }
   ],
   "source": [
    "#Complete the median function to make it return the median of a list of numbers\n",
    "\n",
    "data1=[1,2,5,10,-20]\n",
    "def median(data):\n",
    "    #Insert your code here\n",
    "    tmp = sorted(data)\n",
    "    mid = len(tmp) // 2\n",
    "    res = (tmp[mid] + tmp[-mid-1]) / 2\n",
    "    return res \n",
    "    \n",
    "print(median(data1))    \n",
    "\n",
    "data1[-3]\n"
   ]
  },
  {
   "cell_type": "code",
   "execution_count": 1,
   "metadata": {},
   "outputs": [
    {
     "name": "stdout",
     "output_type": "stream",
     "text": [
      "[5]\n"
     ]
    }
   ],
   "source": [
    "#Complete the mode function to make it return the mode of a list of numbers\n",
    "data1=[1,2,5,10,-20,5,5]\n",
    "\n",
    "def mode(data):\n",
    "    #Insert your code here\n",
    "    d = {}\n",
    "    for a in data:\n",
    "        if not a in d:\n",
    "            d[a]=1\n",
    "        else:\n",
    "            d[a]+=1\n",
    "    return [k for k,v in d.items() if v==max(d.values())]\n",
    "print(mode(data1))\n"
   ]
  },
  {
   "cell_type": "code",
   "execution_count": 2,
   "metadata": {},
   "outputs": [],
   "source": [
    "data1=[1,2,5,10,-20,5,5]\n",
    "def mode(data):\n",
    "    for i in range(len(data)):\n",
    "        if data[i] in data:\n",
    "            data.count(data[i])\n",
    "            \n",
    "            \n",
    "            "
   ]
  },
  {
   "cell_type": "code",
   "execution_count": 6,
   "metadata": {},
   "outputs": [
    {
     "name": "stdout",
     "output_type": "stream",
     "text": [
      "62.572884\n"
     ]
    }
   ],
   "source": [
    "#Complete the variance function to make it return the variance of a list of numbers\n",
    "data3=[13.04, 1.32, 22.65, 17.44, 29.54, 23.22, 17.65, 10.12, 26.73, 16.43]\n",
    "def mean(data):\n",
    "    return sum(data)/len(data)\n",
    "def variance(data):\n",
    "    mu=mean(data)\n",
    "    \n",
    "    for i in range(len(data)):\n",
    "        \n",
    "        data[i]=data[i]-mu\n",
    "        data[i]=data[i]**2\n",
    "   \n",
    "    \n",
    "    return mean(data)\n",
    "    #Insert your code here\n",
    "print(variance(data3))"
   ]
  },
  {
   "cell_type": "code",
   "execution_count": 5,
   "metadata": {},
   "outputs": [
    {
     "name": "stdout",
     "output_type": "stream",
     "text": [
      "62.572884\n"
     ]
    }
   ],
   "source": [
    "#Complete the variance function to make it return the variance of a list of numbers\n",
    "data3=[13.04, 1.32, 22.65, 17.44, 29.54, 23.22, 17.65, 10.12, 26.73, 16.43]\n",
    "def mean(data):\n",
    "    return sum(data)/len(data)\n",
    "def variance(data):\n",
    "    mu=mean(data)\n",
    "    n_data=[]\n",
    "    \n",
    "    for i in range(len(data)):\n",
    "        n_data.append((data[i]-mu)**2)\n",
    "    \n",
    "    \n",
    "    return mean(n_data)\n",
    "    #Insert your code here\n",
    "print(variance(data3))\n"
   ]
  },
  {
   "cell_type": "code",
   "execution_count": null,
   "metadata": {},
   "outputs": [],
   "source": [
    "#Complete the stddev function to make it return the standard deviation \n",
    "#of a list of numbers\n",
    "from math import sqrt\n",
    "\n",
    "data3=[13.04, 1.32, 22.65, 17.44, 29.54, 23.22, 17.65, 10.12, 26.73, 16.43]\n",
    "\n",
    "\n",
    "def mean(data):\n",
    "    return sum(data)/len(data)\n",
    "def variance(data):\n",
    "    mu=mean(data)\n",
    "    return mean([(x-mu)**2 for x in data])\n",
    "def stddev(data):\n",
    "    return sqrt(variance(data))\n",
    "    \n",
    "    \n",
    "    #Insert your code here\n"
   ]
  }
 ],
 "metadata": {
  "kernelspec": {
   "display_name": "Python 3.10.4 64-bit",
   "language": "python",
   "name": "python3"
  },
  "language_info": {
   "codemirror_mode": {
    "name": "ipython",
    "version": 3
   },
   "file_extension": ".py",
   "mimetype": "text/x-python",
   "name": "python",
   "nbconvert_exporter": "python",
   "pygments_lexer": "ipython3",
   "version": "3.10.4"
  },
  "orig_nbformat": 4,
  "vscode": {
   "interpreter": {
    "hash": "551ae5f633a0703ebed0200388e4816cacfa09364f5d947665a859afca4b84e8"
   }
  }
 },
 "nbformat": 4,
 "nbformat_minor": 2
}
